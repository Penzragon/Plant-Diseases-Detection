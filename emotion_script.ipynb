{
 "cells": [
  {
   "cell_type": "code",
   "execution_count": 1,
   "metadata": {},
   "outputs": [],
   "source": [
    "import pandas as pd\n",
    "import numpy as np\n",
    "import matplotlib.pyplot as plt\n",
    "import seaborn as sns\n",
    "import tensorflow as tf\n",
    "from tensorflow.keras.models import Sequential\n",
    "from tensorflow.keras.layers import Dense, Dropout, Activation, Flatten\n",
    "from tensorflow.keras.layers import Conv2D, MaxPooling2D\n",
    "from tensorflow import keras"
   ]
  },
  {
   "cell_type": "code",
   "execution_count": 2,
   "metadata": {},
   "outputs": [],
   "source": [
    "train_dir = 'Emotion/train'\n",
    "valid_dir = 'Emotion/test'"
   ]
  },
  {
   "cell_type": "code",
   "execution_count": 3,
   "metadata": {},
   "outputs": [
    {
     "name": "stdout",
     "output_type": "stream",
     "text": [
      "Found 22968 images belonging to 7 classes.\n",
      "Found 5741 images belonging to 7 classes.\n"
     ]
    }
   ],
   "source": [
    "train_gen = keras.preprocessing.image.ImageDataGenerator(rescale=1./255, height_shift_range=0.1, width_shift_range=0.1, zoom_range=0.1, horizontal_flip=True, validation_split=0.2)\n",
    "valid_gen = keras.preprocessing.image.ImageDataGenerator(rescale=1./255)\n",
    "\n",
    "train_data = train_gen.flow_from_directory(train_dir, target_size=(150, 150), batch_size=64, class_mode='categorical', subset='training')\n",
    "valid_data = train_gen.flow_from_directory(train_dir, target_size=(150, 150), batch_size=64, class_mode='categorical', subset='validation')"
   ]
  },
  {
   "cell_type": "code",
   "execution_count": 4,
   "metadata": {},
   "outputs": [
    {
     "data": {
      "text/plain": [
       "{'angry': 0,\n",
       " 'disgust': 1,\n",
       " 'fear': 2,\n",
       " 'happy': 3,\n",
       " 'neutral': 4,\n",
       " 'sad': 5,\n",
       " 'surprise': 6}"
      ]
     },
     "execution_count": 4,
     "metadata": {},
     "output_type": "execute_result"
    }
   ],
   "source": [
    "label = train_data.class_indices\n",
    "label"
   ]
  },
  {
   "cell_type": "code",
   "execution_count": 5,
   "metadata": {},
   "outputs": [],
   "source": [
    "pretrained = tf.keras.applications.ResNet50V2(include_top=False, weights='imagenet', input_shape=(150, 150, 3))\n",
    "pretrained.trainable = False"
   ]
  },
  {
   "cell_type": "code",
   "execution_count": 7,
   "metadata": {},
   "outputs": [
    {
     "name": "stdout",
     "output_type": "stream",
     "text": [
      "Epoch 1/10\n",
      "359/359 [==============================] - 415s 1s/step - loss: 2.4609 - accuracy: 0.3266 - val_loss: 1.5149 - val_accuracy: 0.4203\n",
      "Epoch 2/10\n",
      "359/359 [==============================] - 370s 1s/step - loss: 1.6044 - accuracy: 0.3741 - val_loss: 1.4835 - val_accuracy: 0.4349\n",
      "Epoch 3/10\n",
      "359/359 [==============================] - 370s 1s/step - loss: 1.5585 - accuracy: 0.3922 - val_loss: 1.4167 - val_accuracy: 0.4590\n",
      "Epoch 4/10\n",
      "359/359 [==============================] - 370s 1s/step - loss: 1.5225 - accuracy: 0.3970 - val_loss: 1.3988 - val_accuracy: 0.4652\n",
      "Epoch 5/10\n",
      "359/359 [==============================] - 369s 1s/step - loss: 1.5034 - accuracy: 0.4107 - val_loss: 1.4289 - val_accuracy: 0.4595\n",
      "Epoch 6/10\n",
      "359/359 [==============================] - 369s 1s/step - loss: 1.4836 - accuracy: 0.4207 - val_loss: 1.4012 - val_accuracy: 0.4731\n",
      "Epoch 7/10\n",
      "359/359 [==============================] - 378s 1s/step - loss: 1.4771 - accuracy: 0.4224 - val_loss: 1.3771 - val_accuracy: 0.4868\n",
      "Epoch 8/10\n",
      "359/359 [==============================] - 386s 1s/step - loss: 1.4601 - accuracy: 0.4270 - val_loss: 1.3923 - val_accuracy: 0.4740\n",
      "Epoch 9/10\n",
      "359/359 [==============================] - 367s 1s/step - loss: 1.4473 - accuracy: 0.4329 - val_loss: 1.3715 - val_accuracy: 0.4827\n",
      "Epoch 10/10\n",
      "359/359 [==============================] - 356s 993ms/step - loss: 1.4405 - accuracy: 0.4415 - val_loss: 1.3869 - val_accuracy: 0.4870\n"
     ]
    },
    {
     "data": {
      "text/plain": [
       "<keras.callbacks.History at 0x22886537c70>"
      ]
     },
     "execution_count": 7,
     "metadata": {},
     "output_type": "execute_result"
    }
   ],
   "source": [
    "model = Sequential()\n",
    "model.add(pretrained)\n",
    "model.add(Flatten())\n",
    "model.add(Dense(512, activation='relu'))\n",
    "model.add(Dropout(0.5))\n",
    "model.add(Dense(7, activation='softmax'))\n",
    "\n",
    "model.compile(optimizer='adam', loss='categorical_crossentropy', metrics=['accuracy'])\n",
    "\n",
    "model.fit(train_data, epochs=10, validation_data=valid_data)"
   ]
  }
 ],
 "metadata": {
  "interpreter": {
   "hash": "112f40161e87cdf99d798de2b86adf76c0b833717b9d65fa1f256b9c887e27bf"
  },
  "kernelspec": {
   "display_name": "Python 3.9.1 64-bit",
   "language": "python",
   "name": "python3"
  },
  "language_info": {
   "codemirror_mode": {
    "name": "ipython",
    "version": 3
   },
   "file_extension": ".py",
   "mimetype": "text/x-python",
   "name": "python",
   "nbconvert_exporter": "python",
   "pygments_lexer": "ipython3",
   "version": "3.9.1"
  },
  "orig_nbformat": 4
 },
 "nbformat": 4,
 "nbformat_minor": 2
}
