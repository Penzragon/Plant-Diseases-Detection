{
  "nbformat": 4,
  "nbformat_minor": 0,
  "metadata": {
    "colab": {
      "name": "Final Projects -  FTDS .ipynb",
      "provenance": [],
      "collapsed_sections": [
        "TWfjXIHyz7LI",
        "dI18y5N0Xtab"
      ]
    },
    "kernelspec": {
      "name": "python3",
      "display_name": "Python 3"
    },
    "language_info": {
      "name": "python"
    }
  },
  "cells": [
    {
      "cell_type": "markdown",
      "source": [
        "# Plant Disesase"
      ],
      "metadata": {
        "id": "SRDYcn7q8ZR4"
      }
    },
    {
      "cell_type": "code",
      "execution_count": null,
      "metadata": {
        "id": "vges902K25w0"
      },
      "outputs": [],
      "source": [
        "import pandas\n",
        "import tensorflow as tf\n",
        "from pathlib import Path"
      ]
    },
    {
      "cell_type": "code",
      "source": [
        "from tensorflow.keras.layers import Conv2D, MaxPool2D, Flatten, Dense, GlobalAveragePooling2D,BatchNormalization"
      ],
      "metadata": {
        "id": "q7YHwBP2IjjY"
      },
      "execution_count": null,
      "outputs": []
    },
    {
      "cell_type": "code",
      "source": [
        "from google.colab import drive\n",
        "drive.mount('/content/gdrive')"
      ],
      "metadata": {
        "colab": {
          "base_uri": "https://localhost:8080/"
        },
        "id": "BYAlXrQrbsMZ",
        "outputId": "02c23c47-d2f3-466b-da7c-303447ec6cff"
      },
      "execution_count": null,
      "outputs": [
        {
          "output_type": "stream",
          "name": "stdout",
          "text": [
            "Drive already mounted at /content/gdrive; to attempt to forcibly remount, call drive.mount(\"/content/gdrive\", force_remount=True).\n"
          ]
        }
      ]
    },
    {
      "cell_type": "code",
      "source": [
        "% cd /content/gdrive/My Drive/plant_disease/potato"
      ],
      "metadata": {
        "colab": {
          "base_uri": "https://localhost:8080/"
        },
        "id": "QVLzfXvBbslI",
        "outputId": "04fadbbf-e994-49b8-c4a3-10bd3da1d23f"
      },
      "execution_count": null,
      "outputs": [
        {
          "output_type": "stream",
          "name": "stdout",
          "text": [
            "/content/gdrive/My Drive/plant_disease/potato\n"
          ]
        }
      ]
    },
    {
      "cell_type": "code",
      "source": [
        "! pwd"
      ],
      "metadata": {
        "colab": {
          "base_uri": "https://localhost:8080/"
        },
        "id": "g-NEo0iOb0Lh",
        "outputId": "7db32898-488c-4166-d375-83c9208727e7"
      },
      "execution_count": null,
      "outputs": [
        {
          "output_type": "stream",
          "name": "stdout",
          "text": [
            "/content/gdrive/My Drive/plant_disease/potato\n"
          ]
        }
      ]
    },
    {
      "cell_type": "markdown",
      "source": [
        "### Load Data"
      ],
      "metadata": {
        "id": "HOJDIY3A8joK"
      }
    },
    {
      "cell_type": "code",
      "source": [
        "import os\n",
        "\n",
        "# eksplorasi direktori dataset\n",
        "for dirpath, dirnames, filenames in os.walk(\".\"):\n",
        "  print(f\"Ada {len(dirnames)} folder dan {len(filenames)} gambar di direktori {dirpath}\")"
      ],
      "metadata": {
        "colab": {
          "base_uri": "https://localhost:8080/"
        },
        "id": "C0q3AnC6b2-1",
        "outputId": "1b7b2f7d-2ed7-4ca9-b381-e1e97e9bf721"
      },
      "execution_count": null,
      "outputs": [
        {
          "output_type": "stream",
          "name": "stdout",
          "text": [
            "Ada 3 folder dan 0 gambar di direktori .\n",
            "Ada 4 folder dan 0 gambar di direktori ./valid\n",
            "Ada 0 folder dan 456 gambar di direktori ./valid/Potato___healthy\n",
            "Ada 0 folder dan 485 gambar di direktori ./valid/Potato___Early_blight\n",
            "Ada 0 folder dan 485 gambar di direktori ./valid/Potato___Late_blight\n",
            "Ada 0 folder dan 249 gambar di direktori ./valid/Unknown\n",
            "Ada 4 folder dan 0 gambar di direktori ./train\n",
            "Ada 0 folder dan 1939 gambar di direktori ./train/Potato___Late_blight\n",
            "Ada 0 folder dan 1824 gambar di direktori ./train/Potato___healthy\n",
            "Ada 0 folder dan 1939 gambar di direktori ./train/Potato___Early_blight\n",
            "Ada 0 folder dan 177 gambar di direktori ./train/Unknown\n",
            "Ada 4 folder dan 0 gambar di direktori ./test\n",
            "Ada 0 folder dan 495 gambar di direktori ./test/Potato___Late_blight\n",
            "Ada 0 folder dan 485 gambar di direktori ./test/Potato___Early_blight\n",
            "Ada 0 folder dan 456 gambar di direktori ./test/Potato___healthy\n",
            "Ada 0 folder dan 126 gambar di direktori ./test/Unknown\n"
          ]
        }
      ]
    },
    {
      "cell_type": "code",
      "source": [
        "import pathlib\n",
        "import numpy as np\n",
        "train_potato = pathlib.Path(\"/train\")\n",
        "class_names = np.array(sorted([item.name for item in train_potato.glob('*')]))"
      ],
      "metadata": {
        "id": "woPZmC50b6-Z"
      },
      "execution_count": null,
      "outputs": []
    },
    {
      "cell_type": "code",
      "source": [
        "import matplotlib.pyplot as plt\n",
        "import matplotlib.image as mpimg\n",
        "import random\n",
        "\n",
        "def view_random_image(target_dir, target_class):\n",
        "  target_folder = target_dir + target_class\n",
        "\n",
        "  # ambil sembarang gambar\n",
        "  random_image = random.sample(os.listdir(target_folder), 1)\n",
        "\n",
        "  img = mpimg.imread(target_folder + \"/\" + random_image[0])\n",
        "  plt.imshow(img)\n",
        "  plt.title(target_class)\n",
        "  plt.axis(\"off\");\n",
        "\n",
        "  print(f\"Ukuran Gambar: {img.shape}\")\n",
        "  return img"
      ],
      "metadata": {
        "id": "ka788--3b-44"
      },
      "execution_count": null,
      "outputs": []
    },
    {
      "cell_type": "code",
      "source": [
        "img = view_random_image(target_dir='test/',\n",
        "                        target_class='Potato___Early_blight')"
      ],
      "metadata": {
        "colab": {
          "base_uri": "https://localhost:8080/",
          "height": 281
        },
        "id": "X68E8CnhcCjO",
        "outputId": "6844c745-5d87-499a-8487-18603f3db123"
      },
      "execution_count": null,
      "outputs": [
        {
          "output_type": "stream",
          "name": "stdout",
          "text": [
            "Ukuran Gambar: (256, 256, 3)\n"
          ]
        },
        {
          "output_type": "display_data",
          "data": {
            "text/plain": [
              "<Figure size 432x288 with 1 Axes>"
            ],
            "image/png": "[encoded data removed]"
          },
          "metadata": {
            "needs_background": "light"
          }
        }
      ]
    },
    {
      "cell_type": "markdown",
      "source": [
        "### Preprocessing "
      ],
      "metadata": {
        "id": "BF8XBQXn8nPn"
      }
    },
    {
      "cell_type": "code",
      "source": [
        "from tensorflow.keras.preprocessing.image import ImageDataGenerator\n",
        "\n",
        "tf.random.set_seed(46)\n",
        "\n",
        "train_datagen = ImageDataGenerator(rescale=1./255, validation_split=0.2)\n",
        "valid_datagen = ImageDataGenerator(rescale=1./255)\n",
        "test_datagen = ImageDataGenerator(rescale=1./255)"
      ],
      "metadata": {
        "id": "SJx3KUAFdhic"
      },
      "execution_count": null,
      "outputs": []
    },
    {
      "cell_type": "code",
      "source": [
        "train_dir = 'train/'\n",
        "test_dir = 'test/'"
      ],
      "metadata": {
        "id": "bmDiklIUdkl3"
      },
      "execution_count": null,
      "outputs": []
    },
    {
      "cell_type": "code",
      "source": [
        "train_data = train_datagen.flow_from_directory(train_dir,\n",
        "                                               batch_size=32,\n",
        "                                               target_size=(150, 150),\n",
        "                                               class_mode='categorical',\n",
        "                                               seed=46,\n",
        "                                               subset='training')\n",
        "\n",
        "valid_data = train_datagen.flow_from_directory(train_dir,\n",
        "                                               batch_size=32,\n",
        "                                               target_size=(150, 150),\n",
        "                                               class_mode='categorical',\n",
        "                                               seed=46,\n",
        "                                               subset='validation')  \n"
      ],
      "metadata": {
        "colab": {
          "base_uri": "https://localhost:8080/"
        },
        "id": "C_vS-NyPdmpx",
        "outputId": "c6521a4d-6dd4-49da-9aee-e7040a63b504"
      },
      "execution_count": null,
      "outputs": [
        {
          "output_type": "stream",
          "name": "stdout",
          "text": [
            "Found 4706 images belonging to 4 classes.\n",
            "Found 1173 images belonging to 4 classes.\n"
          ]
        }
      ]
    },
    {
      "cell_type": "code",
      "source": [
        "test_data = train_datagen.flow_from_directory(test_dir,\n",
        "    target_size=(150, 150),\n",
        "    color_mode='rgb',\n",
        "    class_mode='categorical',\n",
        "    batch_size=32,\n",
        "    shuffle=False,\n",
        "    seed=42\n",
        ")"
      ],
      "metadata": {
        "colab": {
          "base_uri": "https://localhost:8080/"
        },
        "id": "UHxmr8kNpuUo",
        "outputId": "91d92616-dd1e-47f0-d0b4-ab3fe1381d33"
      },
      "execution_count": null,
      "outputs": [
        {
          "output_type": "stream",
          "name": "stdout",
          "text": [
            "Found 1562 images belonging to 4 classes.\n"
          ]
        }
      ]
    },
    {
      "cell_type": "code",
      "source": [
        "train_data.class_indices"
      ],
      "metadata": {
        "id": "3onTEBHthIc4",
        "outputId": "82ebf4bb-50a5-411e-d70d-4a2b6d75bf83",
        "colab": {
          "base_uri": "https://localhost:8080/"
        }
      },
      "execution_count": null,
      "outputs": [
        {
          "output_type": "execute_result",
          "data": {
            "text/plain": [
              "{'Potato___Early_blight': 0,\n",
              " 'Potato___Late_blight': 1,\n",
              " 'Potato___healthy': 2,\n",
              " 'Unknown': 3}"
            ]
          },
          "metadata": {},
          "execution_count": 13
        }
      ]
    },
    {
      "cell_type": "code",
      "source": [
        "from tensorflow.keras.models import Sequential\n",
        "from tensorflow.keras.layers import Conv2D, MaxPool2D, Dense, Dropout, Flatten "
      ],
      "metadata": {
        "id": "yyafZRIp6R2o"
      },
      "execution_count": null,
      "outputs": []
    },
    {
      "cell_type": "markdown",
      "source": [
        "# Define Model"
      ],
      "metadata": {
        "id": "m_FVK3rb90ZE"
      }
    },
    {
      "cell_type": "code",
      "source": [
        "# modelling\n",
        "from tensorflow.keras.models import Sequential\n",
        "from tensorflow.keras.layers import Conv2D, MaxPool2D, Dense, Dropout, Flatten\n",
        "\n",
        "model = Sequential([\n",
        "        Conv2D(16, 3, activation='relu', input_shape=(150, 150, 3)),\n",
        "        Dropout(0.3),\n",
        "        BatchNormalization(),\n",
        "        MaxPool2D(2),\n",
        "        Conv2D(32, 3, activation='relu'),\n",
        "        Dropout(0.3),\n",
        "        BatchNormalization(),\n",
        "        MaxPool2D(2),\n",
        "        # Conv2D(32, 3, activation='relu'),\n",
        "        # Dropout(0.5),\n",
        "        # Conv2D(128, 3, activation='relu'),\n",
        "        # Dropout(0.5),\n",
        "        MaxPool2D(2),\n",
        "        GlobalAveragePooling2D(),\n",
        "        Flatten(),\n",
        "        Dense(16, activation='relu'),\n",
        "        Dense(3, activation='softmax')\n",
        "])\n",
        "\n",
        "model.summary()"
      ],
      "metadata": {
        "colab": {
          "base_uri": "https://localhost:8080/"
        },
        "id": "RXzY9nUVdna1",
        "outputId": "5718661b-12bd-4238-a052-9cf20eefac0d"
      },
      "execution_count": null,
      "outputs": [
        {
          "output_type": "stream",
          "name": "stdout",
          "text": [
            "Model: \"sequential_3\"\n",
            "_________________________________________________________________\n",
            " Layer (type)                Output Shape              Param #   \n",
            "=================================================================\n",
            " conv2d_8 (Conv2D)           (None, 148, 148, 16)      448       \n",
            "                                                                 \n",
            " dropout_8 (Dropout)         (None, 148, 148, 16)      0         \n",
            "                                                                 \n",
            " batch_normalization_6 (Batc  (None, 148, 148, 16)     64        \n",
            " hNormalization)                                                 \n",
            "                                                                 \n",
            " max_pooling2d_9 (MaxPooling  (None, 74, 74, 16)       0         \n",
            " 2D)                                                             \n",
            "                                                                 \n",
            " conv2d_9 (Conv2D)           (None, 72, 72, 32)        4640      \n",
            "                                                                 \n",
            " dropout_9 (Dropout)         (None, 72, 72, 32)        0         \n",
            "                                                                 \n",
            " batch_normalization_7 (Batc  (None, 72, 72, 32)       128       \n",
            " hNormalization)                                                 \n",
            "                                                                 \n",
            " max_pooling2d_10 (MaxPoolin  (None, 36, 36, 32)       0         \n",
            " g2D)                                                            \n",
            "                                                                 \n",
            " max_pooling2d_11 (MaxPoolin  (None, 18, 18, 32)       0         \n",
            " g2D)                                                            \n",
            "                                                                 \n",
            " global_average_pooling2d_3   (None, 32)               0         \n",
            " (GlobalAveragePooling2D)                                        \n",
            "                                                                 \n",
            " flatten_3 (Flatten)         (None, 32)                0         \n",
            "                                                                 \n",
            " dense_6 (Dense)             (None, 16)                528       \n",
            "                                                                 \n",
            " dense_7 (Dense)             (None, 3)                 51        \n",
            "                                                                 \n",
            "=================================================================\n",
            "Total params: 5,859\n",
            "Trainable params: 5,763\n",
            "Non-trainable params: 96\n",
            "_________________________________________________________________\n"
          ]
        }
      ]
    },
    {
      "cell_type": "code",
      "source": [
        "from tensorflow.keras.optimizers import Adam\n",
        "\n",
        "model.compile(loss='categorical_crossentropy',\n",
        "              optimizer=Adam(learning_rate=0.00001),\n",
        "              metrics=['accuracy'])"
      ],
      "metadata": {
        "id": "3QWJCz97fgwJ"
      },
      "execution_count": null,
      "outputs": []
    },
    {
      "cell_type": "code",
      "source": [
        "history = model.fit(train_data,\n",
        "                    epochs=100,\n",
        "                    verbose=1,\n",
        "                    validation_data=valid_data)"
      ],
      "metadata": {
        "colab": {
          "base_uri": "https://localhost:8080/"
        },
        "id": "_Bw3vfYVfjW-",
        "outputId": "763da1bb-1952-4cb0-ed80-5f0c4a4e40ab"
      },
      "execution_count": null,
      "outputs": [
        {
          "output_type": "stream",
          "name": "stdout",
          "text": [
            "Epoch 1/100\n",
            "143/143 [==============================] - 15s 99ms/step - loss: 1.1528 - accuracy: 0.4150 - val_loss: 1.1214 - val_accuracy: 0.3603\n",
            "Epoch 2/100\n",
            "143/143 [==============================] - 14s 98ms/step - loss: 1.0277 - accuracy: 0.4809 - val_loss: 1.1784 - val_accuracy: 0.3594\n",
            "Epoch 3/100\n",
            "143/143 [==============================] - 14s 97ms/step - loss: 0.9416 - accuracy: 0.5664 - val_loss: 1.1186 - val_accuracy: 0.3620\n",
            "Epoch 4/100\n",
            "143/143 [==============================] - 14s 95ms/step - loss: 0.8742 - accuracy: 0.6413 - val_loss: 1.0611 - val_accuracy: 0.3770\n",
            "Epoch 5/100\n",
            "143/143 [==============================] - 14s 95ms/step - loss: 0.8186 - accuracy: 0.7103 - val_loss: 1.0212 - val_accuracy: 0.3928\n",
            "Epoch 6/100\n",
            "143/143 [==============================] - 14s 94ms/step - loss: 0.7727 - accuracy: 0.7588 - val_loss: 0.9995 - val_accuracy: 0.4104\n",
            "Epoch 7/100\n",
            "143/143 [==============================] - 14s 95ms/step - loss: 0.7320 - accuracy: 0.7894 - val_loss: 0.9962 - val_accuracy: 0.4227\n",
            "Epoch 8/100\n",
            "143/143 [==============================] - 14s 95ms/step - loss: 0.6931 - accuracy: 0.8133 - val_loss: 1.0025 - val_accuracy: 0.4218\n",
            "Epoch 9/100\n",
            "143/143 [==============================] - 14s 95ms/step - loss: 0.6655 - accuracy: 0.8278 - val_loss: 1.0064 - val_accuracy: 0.4227\n",
            "Epoch 10/100\n",
            "143/143 [==============================] - 13s 94ms/step - loss: 0.6401 - accuracy: 0.8361 - val_loss: 1.0152 - val_accuracy: 0.4218\n",
            "Epoch 11/100\n",
            "143/143 [==============================] - 14s 98ms/step - loss: 0.6139 - accuracy: 0.8429 - val_loss: 1.0153 - val_accuracy: 0.4288\n",
            "Epoch 12/100\n",
            "143/143 [==============================] - 14s 95ms/step - loss: 0.5864 - accuracy: 0.8539 - val_loss: 1.0094 - val_accuracy: 0.4385\n",
            "Epoch 13/100\n",
            "143/143 [==============================] - 13s 94ms/step - loss: 0.5671 - accuracy: 0.8565 - val_loss: 1.0064 - val_accuracy: 0.4490\n",
            "Epoch 14/100\n",
            "143/143 [==============================] - 14s 97ms/step - loss: 0.5504 - accuracy: 0.8591 - val_loss: 1.0125 - val_accuracy: 0.4525\n",
            "Epoch 15/100\n",
            "143/143 [==============================] - 14s 101ms/step - loss: 0.5303 - accuracy: 0.8657 - val_loss: 1.0104 - val_accuracy: 0.4552\n",
            "Epoch 16/100\n",
            "143/143 [==============================] - 14s 96ms/step - loss: 0.5091 - accuracy: 0.8716 - val_loss: 1.0194 - val_accuracy: 0.4534\n",
            "Epoch 17/100\n",
            "143/143 [==============================] - 14s 95ms/step - loss: 0.4946 - accuracy: 0.8764 - val_loss: 1.0072 - val_accuracy: 0.4710\n",
            "Epoch 18/100\n",
            "143/143 [==============================] - 14s 100ms/step - loss: 0.4840 - accuracy: 0.8718 - val_loss: 1.0016 - val_accuracy: 0.4851\n",
            "Epoch 19/100\n",
            "143/143 [==============================] - 14s 100ms/step - loss: 0.4725 - accuracy: 0.8749 - val_loss: 1.0144 - val_accuracy: 0.4833\n",
            "Epoch 20/100\n",
            "143/143 [==============================] - 14s 101ms/step - loss: 0.4521 - accuracy: 0.8830 - val_loss: 1.0275 - val_accuracy: 0.4807\n",
            "Epoch 21/100\n",
            "143/143 [==============================] - 13s 93ms/step - loss: 0.4403 - accuracy: 0.8863 - val_loss: 1.0203 - val_accuracy: 0.4886\n",
            "Epoch 22/100\n",
            "143/143 [==============================] - 14s 96ms/step - loss: 0.4271 - accuracy: 0.8898 - val_loss: 1.0370 - val_accuracy: 0.4868\n",
            "Epoch 23/100\n",
            "143/143 [==============================] - 13s 93ms/step - loss: 0.4222 - accuracy: 0.8880 - val_loss: 1.0658 - val_accuracy: 0.4763\n",
            "Epoch 24/100\n",
            "143/143 [==============================] - 13s 94ms/step - loss: 0.4114 - accuracy: 0.8944 - val_loss: 1.0389 - val_accuracy: 0.4930\n",
            "Epoch 25/100\n",
            "143/143 [==============================] - 13s 93ms/step - loss: 0.3984 - accuracy: 0.8950 - val_loss: 1.0301 - val_accuracy: 0.5000\n",
            "Epoch 26/100\n",
            "143/143 [==============================] - 13s 94ms/step - loss: 0.3980 - accuracy: 0.8937 - val_loss: 1.0472 - val_accuracy: 0.4947\n",
            "Epoch 27/100\n",
            "143/143 [==============================] - 13s 93ms/step - loss: 0.3839 - accuracy: 0.9010 - val_loss: 1.0292 - val_accuracy: 0.5062\n",
            "Epoch 28/100\n",
            "143/143 [==============================] - 13s 93ms/step - loss: 0.3765 - accuracy: 0.9007 - val_loss: 1.0386 - val_accuracy: 0.5026\n",
            "Epoch 29/100\n",
            "143/143 [==============================] - 13s 94ms/step - loss: 0.3662 - accuracy: 0.9071 - val_loss: 1.0265 - val_accuracy: 0.5079\n",
            "Epoch 30/100\n",
            "143/143 [==============================] - 13s 94ms/step - loss: 0.3543 - accuracy: 0.9141 - val_loss: 1.0092 - val_accuracy: 0.5176\n",
            "Epoch 31/100\n",
            "143/143 [==============================] - 13s 93ms/step - loss: 0.3495 - accuracy: 0.9126 - val_loss: 1.0368 - val_accuracy: 0.5062\n",
            "Epoch 32/100\n",
            "143/143 [==============================] - 13s 93ms/step - loss: 0.3396 - accuracy: 0.9172 - val_loss: 1.0290 - val_accuracy: 0.5105\n",
            "Epoch 33/100\n",
            "143/143 [==============================] - 14s 97ms/step - loss: 0.3298 - accuracy: 0.9222 - val_loss: 1.0258 - val_accuracy: 0.5123\n",
            "Epoch 34/100\n",
            "143/143 [==============================] - 14s 95ms/step - loss: 0.3232 - accuracy: 0.9242 - val_loss: 1.0507 - val_accuracy: 0.5088\n",
            "Epoch 35/100\n",
            "143/143 [==============================] - 13s 93ms/step - loss: 0.3153 - accuracy: 0.9240 - val_loss: 1.0083 - val_accuracy: 0.5246\n",
            "Epoch 36/100\n",
            "143/143 [==============================] - 13s 93ms/step - loss: 0.3127 - accuracy: 0.9273 - val_loss: 1.0381 - val_accuracy: 0.5141\n",
            "Epoch 37/100\n",
            "143/143 [==============================] - 13s 94ms/step - loss: 0.3090 - accuracy: 0.9253 - val_loss: 1.0424 - val_accuracy: 0.5132\n",
            "Epoch 38/100\n",
            "143/143 [==============================] - 13s 94ms/step - loss: 0.2938 - accuracy: 0.9323 - val_loss: 1.0412 - val_accuracy: 0.5149\n",
            "Epoch 39/100\n",
            "143/143 [==============================] - 13s 93ms/step - loss: 0.2906 - accuracy: 0.9371 - val_loss: 1.0469 - val_accuracy: 0.5149\n",
            "Epoch 40/100\n",
            "143/143 [==============================] - 13s 93ms/step - loss: 0.2936 - accuracy: 0.9305 - val_loss: 1.0500 - val_accuracy: 0.5149\n",
            "Epoch 41/100\n",
            "143/143 [==============================] - 13s 93ms/step - loss: 0.2812 - accuracy: 0.9319 - val_loss: 1.0270 - val_accuracy: 0.5211\n",
            "Epoch 42/100\n",
            "143/143 [==============================] - 14s 95ms/step - loss: 0.2821 - accuracy: 0.9305 - val_loss: 1.0512 - val_accuracy: 0.5167\n",
            "Epoch 43/100\n",
            "143/143 [==============================] - 13s 92ms/step - loss: 0.2757 - accuracy: 0.9354 - val_loss: 1.0568 - val_accuracy: 0.5185\n",
            "Epoch 44/100\n",
            "143/143 [==============================] - 13s 93ms/step - loss: 0.2660 - accuracy: 0.9367 - val_loss: 1.0460 - val_accuracy: 0.5246\n",
            "Epoch 45/100\n",
            "143/143 [==============================] - 13s 93ms/step - loss: 0.2666 - accuracy: 0.9380 - val_loss: 1.0571 - val_accuracy: 0.5220\n",
            "Epoch 46/100\n",
            "143/143 [==============================] - 13s 93ms/step - loss: 0.2568 - accuracy: 0.9395 - val_loss: 1.0354 - val_accuracy: 0.5308\n",
            "Epoch 47/100\n",
            "143/143 [==============================] - 13s 94ms/step - loss: 0.2534 - accuracy: 0.9382 - val_loss: 1.0275 - val_accuracy: 0.5351\n",
            "Epoch 48/100\n",
            "143/143 [==============================] - 13s 93ms/step - loss: 0.2497 - accuracy: 0.9437 - val_loss: 1.0562 - val_accuracy: 0.5272\n",
            "Epoch 49/100\n",
            "143/143 [==============================] - 13s 94ms/step - loss: 0.2538 - accuracy: 0.9395 - val_loss: 1.0515 - val_accuracy: 0.5299\n",
            "Epoch 50/100\n",
            "143/143 [==============================] - 13s 93ms/step - loss: 0.2421 - accuracy: 0.9419 - val_loss: 1.0395 - val_accuracy: 0.5325\n",
            "Epoch 51/100\n",
            "143/143 [==============================] - 13s 93ms/step - loss: 0.2398 - accuracy: 0.9404 - val_loss: 1.0196 - val_accuracy: 0.5395\n",
            "Epoch 52/100\n",
            "143/143 [==============================] - 13s 93ms/step - loss: 0.2359 - accuracy: 0.9439 - val_loss: 1.0488 - val_accuracy: 0.5334\n",
            "Epoch 53/100\n",
            "143/143 [==============================] - 13s 94ms/step - loss: 0.2335 - accuracy: 0.9426 - val_loss: 1.0153 - val_accuracy: 0.5431\n",
            "Epoch 54/100\n",
            "143/143 [==============================] - 13s 93ms/step - loss: 0.2263 - accuracy: 0.9446 - val_loss: 1.0106 - val_accuracy: 0.5431\n",
            "Epoch 55/100\n",
            "143/143 [==============================] - 13s 93ms/step - loss: 0.2236 - accuracy: 0.9457 - val_loss: 1.0265 - val_accuracy: 0.5413\n",
            "Epoch 56/100\n",
            "143/143 [==============================] - 14s 94ms/step - loss: 0.2187 - accuracy: 0.9505 - val_loss: 1.0513 - val_accuracy: 0.5369\n",
            "Epoch 57/100\n",
            "143/143 [==============================] - 14s 96ms/step - loss: 0.2205 - accuracy: 0.9494 - val_loss: 1.0154 - val_accuracy: 0.5448\n",
            "Epoch 58/100\n",
            "143/143 [==============================] - 13s 94ms/step - loss: 0.2218 - accuracy: 0.9430 - val_loss: 1.0012 - val_accuracy: 0.5554\n",
            "Epoch 59/100\n",
            "143/143 [==============================] - 13s 94ms/step - loss: 0.2131 - accuracy: 0.9454 - val_loss: 1.0465 - val_accuracy: 0.5387\n",
            "Epoch 60/100\n",
            "143/143 [==============================] - 13s 94ms/step - loss: 0.2136 - accuracy: 0.9459 - val_loss: 1.0362 - val_accuracy: 0.5413\n",
            "Epoch 61/100\n",
            "143/143 [==============================] - 14s 94ms/step - loss: 0.2108 - accuracy: 0.9454 - val_loss: 1.0327 - val_accuracy: 0.5431\n",
            "Epoch 62/100\n",
            "143/143 [==============================] - 14s 95ms/step - loss: 0.2112 - accuracy: 0.9468 - val_loss: 1.0156 - val_accuracy: 0.5448\n",
            "Epoch 63/100\n",
            "143/143 [==============================] - 13s 93ms/step - loss: 0.2053 - accuracy: 0.9483 - val_loss: 1.0139 - val_accuracy: 0.5483\n",
            "Epoch 64/100\n",
            "143/143 [==============================] - 13s 94ms/step - loss: 0.2026 - accuracy: 0.9511 - val_loss: 1.0122 - val_accuracy: 0.5483\n",
            "Epoch 65/100\n",
            "143/143 [==============================] - 14s 94ms/step - loss: 0.1989 - accuracy: 0.9487 - val_loss: 1.0090 - val_accuracy: 0.5510\n",
            "Epoch 66/100\n",
            "143/143 [==============================] - 13s 94ms/step - loss: 0.1971 - accuracy: 0.9498 - val_loss: 0.9840 - val_accuracy: 0.5659\n",
            "Epoch 67/100\n",
            "143/143 [==============================] - 13s 93ms/step - loss: 0.1889 - accuracy: 0.9518 - val_loss: 1.0334 - val_accuracy: 0.5439\n",
            "Epoch 68/100\n",
            "143/143 [==============================] - 14s 95ms/step - loss: 0.1962 - accuracy: 0.9481 - val_loss: 1.0269 - val_accuracy: 0.5466\n",
            "Epoch 69/100\n",
            "143/143 [==============================] - 13s 93ms/step - loss: 0.1902 - accuracy: 0.9489 - val_loss: 1.0076 - val_accuracy: 0.5536\n",
            "Epoch 70/100\n",
            "143/143 [==============================] - 13s 93ms/step - loss: 0.1908 - accuracy: 0.9494 - val_loss: 0.9791 - val_accuracy: 0.5694\n",
            "Epoch 71/100\n",
            "143/143 [==============================] - 13s 94ms/step - loss: 0.1918 - accuracy: 0.9498 - val_loss: 0.9978 - val_accuracy: 0.5598\n",
            "Epoch 72/100\n",
            "143/143 [==============================] - 13s 94ms/step - loss: 0.1835 - accuracy: 0.9542 - val_loss: 0.9775 - val_accuracy: 0.5712\n",
            "Epoch 73/100\n",
            "143/143 [==============================] - 14s 95ms/step - loss: 0.1810 - accuracy: 0.9531 - val_loss: 0.9500 - val_accuracy: 0.5773\n",
            "Epoch 74/100\n",
            "143/143 [==============================] - 13s 93ms/step - loss: 0.1787 - accuracy: 0.9557 - val_loss: 0.9767 - val_accuracy: 0.5721\n",
            "Epoch 75/100\n",
            "143/143 [==============================] - 13s 93ms/step - loss: 0.1793 - accuracy: 0.9503 - val_loss: 0.9860 - val_accuracy: 0.5677\n",
            "Epoch 76/100\n",
            "143/143 [==============================] - 14s 94ms/step - loss: 0.1804 - accuracy: 0.9516 - val_loss: 0.9862 - val_accuracy: 0.5703\n",
            "Epoch 77/100\n",
            "143/143 [==============================] - 13s 94ms/step - loss: 0.1756 - accuracy: 0.9542 - val_loss: 0.9876 - val_accuracy: 0.5694\n",
            "Epoch 78/100\n",
            "143/143 [==============================] - 13s 94ms/step - loss: 0.1781 - accuracy: 0.9520 - val_loss: 0.9996 - val_accuracy: 0.5624\n",
            "Epoch 79/100\n",
            "143/143 [==============================] - 13s 94ms/step - loss: 0.1766 - accuracy: 0.9535 - val_loss: 0.9742 - val_accuracy: 0.5756\n",
            "Epoch 80/100\n",
            "143/143 [==============================] - 14s 97ms/step - loss: 0.1735 - accuracy: 0.9533 - val_loss: 0.9405 - val_accuracy: 0.5870\n",
            "Epoch 81/100\n",
            "143/143 [==============================] - 13s 92ms/step - loss: 0.1671 - accuracy: 0.9551 - val_loss: 0.9716 - val_accuracy: 0.5800\n",
            "Epoch 82/100\n",
            "143/143 [==============================] - 13s 93ms/step - loss: 0.1691 - accuracy: 0.9551 - val_loss: 0.9727 - val_accuracy: 0.5782\n",
            "Epoch 83/100\n",
            "143/143 [==============================] - 13s 94ms/step - loss: 0.1646 - accuracy: 0.9579 - val_loss: 0.9544 - val_accuracy: 0.5817\n",
            "Epoch 84/100\n",
            "143/143 [==============================] - 13s 93ms/step - loss: 0.1632 - accuracy: 0.9568 - val_loss: 0.9914 - val_accuracy: 0.5703\n",
            "Epoch 85/100\n",
            "143/143 [==============================] - 13s 94ms/step - loss: 0.1611 - accuracy: 0.9571 - val_loss: 0.9724 - val_accuracy: 0.5782\n",
            "Epoch 86/100\n",
            "143/143 [==============================] - 13s 93ms/step - loss: 0.1634 - accuracy: 0.9557 - val_loss: 0.9531 - val_accuracy: 0.5852\n",
            "Epoch 87/100\n",
            "143/143 [==============================] - 13s 93ms/step - loss: 0.1598 - accuracy: 0.9588 - val_loss: 0.9537 - val_accuracy: 0.5844\n",
            "Epoch 88/100\n",
            "143/143 [==============================] - 13s 93ms/step - loss: 0.1570 - accuracy: 0.9601 - val_loss: 0.9631 - val_accuracy: 0.5808\n",
            "Epoch 89/100\n",
            "143/143 [==============================] - 13s 93ms/step - loss: 0.1551 - accuracy: 0.9588 - val_loss: 0.9601 - val_accuracy: 0.5826\n",
            "Epoch 90/100\n",
            "143/143 [==============================] - 13s 93ms/step - loss: 0.1534 - accuracy: 0.9612 - val_loss: 0.9581 - val_accuracy: 0.5844\n",
            "Epoch 91/100\n",
            "143/143 [==============================] - 13s 93ms/step - loss: 0.1555 - accuracy: 0.9582 - val_loss: 0.9925 - val_accuracy: 0.5721\n",
            "Epoch 92/100\n",
            "143/143 [==============================] - 13s 93ms/step - loss: 0.1516 - accuracy: 0.9568 - val_loss: 0.9685 - val_accuracy: 0.5844\n",
            "Epoch 93/100\n",
            "143/143 [==============================] - 13s 93ms/step - loss: 0.1513 - accuracy: 0.9590 - val_loss: 0.9591 - val_accuracy: 0.5896\n",
            "Epoch 94/100\n",
            "143/143 [==============================] - 13s 92ms/step - loss: 0.1496 - accuracy: 0.9582 - val_loss: 0.9636 - val_accuracy: 0.5870\n",
            "Epoch 95/100\n",
            "143/143 [==============================] - 13s 93ms/step - loss: 0.1505 - accuracy: 0.9551 - val_loss: 0.9419 - val_accuracy: 0.5931\n",
            "Epoch 96/100\n",
            "143/143 [==============================] - 13s 94ms/step - loss: 0.1438 - accuracy: 0.9608 - val_loss: 0.9335 - val_accuracy: 0.5967\n",
            "Epoch 97/100\n",
            "143/143 [==============================] - 13s 93ms/step - loss: 0.1471 - accuracy: 0.9623 - val_loss: 0.9270 - val_accuracy: 0.6011\n",
            "Epoch 98/100\n",
            "143/143 [==============================] - 13s 92ms/step - loss: 0.1488 - accuracy: 0.9568 - val_loss: 0.9410 - val_accuracy: 0.5958\n",
            "Epoch 99/100\n",
            "143/143 [==============================] - 13s 92ms/step - loss: 0.1404 - accuracy: 0.9612 - val_loss: 0.9520 - val_accuracy: 0.5888\n",
            "Epoch 100/100\n",
            "143/143 [==============================] - 13s 93ms/step - loss: 0.1447 - accuracy: 0.9592 - val_loss: 0.9241 - val_accuracy: 0.6037\n"
          ]
        }
      ]
    },
    {
      "cell_type": "code",
      "source": [
        "def plot_loss_curves(history):\n",
        "  loss = history.history['loss']\n",
        "  val_loss = history.history['val_loss']\n",
        "\n",
        "  accuracy = history.history['accuracy']\n",
        "  val_accuracy = history.history['val_accuracy']\n",
        "\n",
        "  epochs = range(len(history.history['loss']))\n",
        "\n",
        "  # Plot loss\n",
        "  plt.plot(epochs, loss, label='training_loss')\n",
        "  plt.plot(epochs, val_loss, label='val_loss')\n",
        "  plt.title('Loss')\n",
        "  plt.xlabel('Epochs')\n",
        "  plt.legend()\n",
        "\n",
        "  # Plot accuracy\n",
        "  plt.figure()\n",
        "  plt.plot(epochs, accuracy, label='training_accuracy')\n",
        "  plt.plot(epochs, val_accuracy, label='val_accuracy')\n",
        "  plt.title('Accuracy')\n",
        "  plt.xlabel('Epochs')\n",
        "  plt.legend();"
      ],
      "metadata": {
        "id": "rjKM5SP8peK7"
      },
      "execution_count": null,
      "outputs": []
    },
    {
      "cell_type": "code",
      "source": [
        "plot_loss_curves(history)"
      ],
      "metadata": {
        "id": "Cup15uSopfAA",
        "colab": {
          "base_uri": "https://localhost:8080/",
          "height": 572
        },
        "outputId": "a12c953b-e610-4cc0-8d71-9219411d8462"
      },
      "execution_count": null,
      "outputs": [
        {
          "output_type": "display_data",
          "data": {
            "text/plain": [
              "<Figure size 432x288 with 1 Axes>"
            ],
            "image/png": "[encoded data removed]"
          },
          "metadata": {
            "needs_background": "light"
          }
        },
        {
          "output_type": "display_data",
          "data": {
            "text/plain": [
              "<Figure size 432x288 with 1 Axes>"
            ],
            "image/png": "[encoded data removed]"
          },
          "metadata": {
            "needs_background": "light"
          }
        }
      ]
    },
    {
      "cell_type": "code",
      "source": [
        "from sklearn.metrics import confusion_matrix, classification_report\n",
        "import seaborn as sns"
      ],
      "metadata": {
        "id": "t5BLZ9Htt33t"
      },
      "execution_count": null,
      "outputs": []
    },
    {
      "cell_type": "code",
      "source": [
        "def evaluate_model(model, test_data):\n",
        "    \n",
        "    results = model.evaluate(test_data, verbose=0)\n",
        "    loss = results[0]\n",
        "    acc = results[1]\n",
        "    \n",
        "    print(\"    Test Loss: {:.5f}\".format(loss))\n",
        "    print(\"Test Accuracy: {:.2f}%\".format(acc * 100))\n",
        "    \n",
        "    y_pred = np.squeeze((model.predict(test_data) >= 0.5).astype(np.int))\n",
        "    cm = confusion_matrix(test_data.labels, y_pred)\n",
        "    clr = classification_report(test_data.labels, y_pred, target_names=[\"NEGATIVE\", \"POSITIVE\"])\n",
        "    \n",
        "    plt.figure(figsize=(6, 6))\n",
        "    sns.heatmap(cm, annot=True, fmt='g', vmin=0, cmap='Blues', cbar=False)\n",
        "    plt.xticks(ticks=np.arange(2) + 0.5, labels=[\"NEGATIVE\", \"POSITIVE\"])\n",
        "    plt.yticks(ticks=np.arange(2) + 0.5, labels=[\"NEGATIVE\", \"POSITIVE\"])\n",
        "    plt.xlabel(\"Predicted\")\n",
        "    plt.ylabel(\"Actual\")\n",
        "    plt.title(\"Confusion Matrix\")\n",
        "    plt.show()\n",
        "    \n",
        "    print(\"Classification Report:\\n----------------------\\n\", clr)"
      ],
      "metadata": {
        "id": "gQAlJ_TgplcD"
      },
      "execution_count": null,
      "outputs": []
    },
    {
      "cell_type": "code",
      "source": [
        "result = model.evaluate(test_data)\n",
        "print(f'loss : {result[0]}')\n",
        "print(f'accuracy : {result[1]}')"
      ],
      "metadata": {
        "id": "vcOYlTX8pnWs",
        "colab": {
          "base_uri": "https://localhost:8080/"
        },
        "outputId": "5fd6298b-b79d-4cda-8ad7-68323e880702"
      },
      "execution_count": null,
      "outputs": [
        {
          "output_type": "stream",
          "name": "stdout",
          "text": [
            "45/45 [==============================] - 4s 77ms/step - loss: 0.9066 - accuracy: 0.5961\n",
            "loss : 0.9066045880317688\n",
            "accuracy : 0.5961002707481384\n"
          ]
        }
      ]
    },
    {
      "cell_type": "code",
      "source": [
        "class_name = ['Early Blight', 'Late Blight', 'Healthy', 'Unknown']"
      ],
      "metadata": {
        "id": "Q5KQRighgEnY"
      },
      "execution_count": null,
      "outputs": []
    },
    {
      "cell_type": "code",
      "source": [
        "val_data = valid_data.next()\n",
        "res = model.predict(val_data[0])\n",
        "print(classification_report(np.argmax(val_data[1], axis=1), np.argmax(res, axis=1), target_names=class_name))"
      ],
      "metadata": {
        "id": "MWriTqGufvwS",
        "colab": {
          "base_uri": "https://localhost:8080/"
        },
        "outputId": "fa415727-7558-46bb-a9b2-256ee586269b"
      },
      "execution_count": null,
      "outputs": [
        {
          "output_type": "stream",
          "name": "stdout",
          "text": [
            "              precision    recall  f1-score   support\n",
            "\n",
            "Early Blight       1.00      0.27      0.43        11\n",
            " Late Blight       0.43      1.00      0.61        10\n",
            "     Healthy       1.00      0.55      0.71        11\n",
            "\n",
            "    accuracy                           0.59        32\n",
            "   macro avg       0.81      0.61      0.58        32\n",
            "weighted avg       0.82      0.59      0.58        32\n",
            "\n"
          ]
        }
      ]
    },
    {
      "cell_type": "code",
      "source": [
        "model.save('/content/potato_base_model.h5')"
      ],
      "metadata": {
        "id": "s2uf7LUlWJdR"
      },
      "execution_count": null,
      "outputs": []
    },
    {
      "cell_type": "code",
      "source": [
        "print(:ajhfairiiaui@#$@%2536346)"
      ],
      "metadata": {
        "id": "aRaL2VvrqipY"
      },
      "execution_count": null,
      "outputs": []
    },
    {
      "cell_type": "markdown",
      "source": [
        "# Resnet"
      ],
      "metadata": {
        "id": "TWfjXIHyz7LI"
      }
    },
    {
      "cell_type": "code",
      "source": [
        "from tensorflow.keras.applications import ResNet50\n",
        "from tensorflow.keras.applications.resnet50 import preprocess_input"
      ],
      "metadata": {
        "id": "RPMH4GUCz8Zl"
      },
      "execution_count": null,
      "outputs": []
    },
    {
      "cell_type": "code",
      "source": [
        "base_model_tf=ResNet50(include_top=False,weights='imagenet',input_shape=(150,150,3),classes=38)"
      ],
      "metadata": {
        "id": "Q_USuvw_z-eg"
      },
      "execution_count": null,
      "outputs": []
    },
    {
      "cell_type": "code",
      "source": [
        "from keras.layers import Input\n",
        "from tensorflow.keras.layers import GlobalAveragePooling2D"
      ],
      "metadata": {
        "id": "yzwOOKK2GucV"
      },
      "execution_count": null,
      "outputs": []
    },
    {
      "cell_type": "code",
      "source": [
        "from keras.models import Sequential,load_model,Model"
      ],
      "metadata": {
        "id": "Mux3obPtH2La"
      },
      "execution_count": null,
      "outputs": []
    },
    {
      "cell_type": "code",
      "source": [
        "base_model_tf.trainable=False\n",
        "\n",
        "pt=Input(shape=(150,150,3))\n",
        "func=tf.cast(pt,tf.float32)\n",
        "x=preprocess_input(func) #This function used to zero-center each color channel wrt Imagenet dataset\n",
        "model_resnet=base_model_tf(x,training=False)\n",
        "model_resnet=GlobalAveragePooling2D()(model_resnet)\n",
        "# model_resnet=Dense(32,activation='relu')(model_resnet)\n",
        "# model_resnet = Dropout(0.5)(model_resnet)\n",
        "# model_resnet=Dense(64,activation='relu')(model_resnet)\n",
        "# model_resnet = Dropout(0.5)(model_resnet)\n",
        "model_resnet=Dense(32,activation='relu')(model_resnet)\n",
        "model_resnet = Dropout(0.5)(model_resnet)\n",
        "model_resnet = Flatten()(model_resnet)\n",
        "model_resnet=Dense(4,activation='softmax')(model_resnet)\n",
        "\n",
        "\n",
        "model_main=Model(inputs=pt,outputs=model_resnet)\n",
        "model_main.summary()"
      ],
      "metadata": {
        "id": "Gs5PdK6K0Cl5"
      },
      "execution_count": null,
      "outputs": []
    },
    {
      "cell_type": "code",
      "source": [
        "model_main.compile(optimizer='Adam',loss='categorical_crossentropy',metrics=['accuracy'])"
      ],
      "metadata": {
        "id": "NT3EzPqqH4R4"
      },
      "execution_count": null,
      "outputs": []
    },
    {
      "cell_type": "code",
      "source": [
        "history1 = model_main.fit(train_data,validation_data=valid_data,epochs=100,steps_per_epoch=100,verbose=1)"
      ],
      "metadata": {
        "id": "ElcXM0z0LP7a"
      },
      "execution_count": null,
      "outputs": []
    },
    {
      "cell_type": "code",
      "source": [
        "plot_loss_curves(history1)"
      ],
      "metadata": {
        "id": "T7Ic4dcIMPyT"
      },
      "execution_count": null,
      "outputs": []
    },
    {
      "cell_type": "code",
      "source": [
        "result = model_main.evaluate(test_data)\n",
        "print(f'loss : {result[0]}')\n",
        "print(f'accuracy : {result[1]}')"
      ],
      "metadata": {
        "id": "37YeVeETObsR"
      },
      "execution_count": null,
      "outputs": []
    },
    {
      "cell_type": "markdown",
      "source": [
        "# VGG16"
      ],
      "metadata": {
        "id": "dI18y5N0Xtab"
      }
    },
    {
      "cell_type": "code",
      "source": [
        "base_model_m = tf.keras.applications.MobileNet(weights=\"imagenet\",input_shape=(150,150,3),include_top=False)  "
      ],
      "metadata": {
        "id": "TDUwO-f3W-A6"
      },
      "execution_count": null,
      "outputs": []
    },
    {
      "cell_type": "code",
      "source": [
        "base_model_m.summary()"
      ],
      "metadata": {
        "id": "mEtx_rP0YUKV"
      },
      "execution_count": null,
      "outputs": []
    },
    {
      "cell_type": "code",
      "source": [
        "# Freeze the base_model_m\n",
        "base_model_m.trainable = False\n",
        "\n",
        "# Create new model on top\n",
        "inputs = tf.keras.Input(shape=(150, 150, 3))\n",
        "\n",
        "# The base model contains batchnorm layers. We want to keep them in inference mode\n",
        "# when we unfreeze the base model for fine-tuning, so we make sure that the\n",
        "# base_model_m is running in inference mode here.\n",
        "x = base_model_m(inputs, training=False)\n",
        "x = tf.keras.layers.GlobalAveragePooling2D()(x)\n",
        "x =  Dense(128,activation='relu')(x)\n",
        "x =  Dense(64,activation='relu')(x)\n",
        "x = tf.keras.layers.Dropout(0.2)(x)  # Regularize with dropout\n",
        "outputs = tf.keras.layers.Dense(3)(x)\n",
        "\n",
        "mobilenet_model = tf.keras.Model(inputs, outputs, name='pretrained_mobilenet')\n",
        "mobilenet_model.summary()"
      ],
      "metadata": {
        "id": "exJdhDf2XvqE"
      },
      "execution_count": null,
      "outputs": []
    },
    {
      "cell_type": "code",
      "source": [
        "mobilenet_model.compile(optimizer='Adam',loss='categorical_crossentropy',metrics=['accuracy'])\n",
        "\n",
        "\n",
        "epochs = 100\n",
        "\n",
        "mobilenet_history = mobilenet_model.fit(train_data,\n",
        "                                        steps_per_epoch=50,  # use 150 random batches (= 4800 samples) for training\n",
        "                                        validation_data=valid_data,\n",
        "                                        epochs=epochs,\n",
        "                                        validation_steps=100,  # use 100 random batches (= 3200 samples) for validation \n",
        ")"
      ],
      "metadata": {
        "id": "7zd3VwyyYuoc"
      },
      "execution_count": null,
      "outputs": []
    },
    {
      "cell_type": "code",
      "source": [
        "train_data.class_indices"
      ],
      "metadata": {
        "id": "Ah23AhB4g89B"
      },
      "execution_count": null,
      "outputs": []
    },
    {
      "cell_type": "code",
      "source": [
        "plot_loss_curves(mobilenet_history)"
      ],
      "metadata": {
        "id": "ePBmoxIpg8oS"
      },
      "execution_count": null,
      "outputs": []
    },
    {
      "cell_type": "markdown",
      "source": [
        "# mobilenet\n"
      ],
      "metadata": {
        "id": "jno82XlpL3pk"
      }
    },
    {
      "cell_type": "code",
      "source": [
        "mobilenet = tf.keras.applications.MobileNetV2(include_top=False, weights='imagenet', input_shape=(150, 150, 3), pooling='avg')\n",
        "mobilenet.trainable = False"
      ],
      "metadata": {
        "colab": {
          "base_uri": "https://localhost:8080/"
        },
        "id": "hXKzLztSL5L7",
        "outputId": "be37199a-ac61-4027-9f5f-4aa2eb256717"
      },
      "execution_count": null,
      "outputs": [
        {
          "output_type": "stream",
          "name": "stdout",
          "text": [
            "WARNING:tensorflow:`input_shape` is undefined or non-square, or `rows` is not in [96, 128, 160, 192, 224]. Weights for input shape (224, 224) will be loaded as the default.\n"
          ]
        }
      ]
    },
    {
      "cell_type": "code",
      "source": [
        "model3 = Sequential()\n",
        "model3.add(mobilenet)\n",
        "model3.add(Dense(32, activation='relu'))\n",
        "model3.add(Dropout(0.2))\n",
        "model3.add(Flatten())\n",
        "model3.add(Dense(4, activation='softmax'))\n",
        "\n",
        "model3.compile(optimizer='adam', loss='categorical_crossentropy', metrics=['accuracy'])\n",
        "\n",
        "history3 = model3.fit(train_data, validation_data=valid_data, epochs=10, callbacks=[tf.keras.callbacks.EarlyStopping(monitor='val_loss', patience=2, restore_best_weights=True)])"
      ],
      "metadata": {
        "colab": {
          "base_uri": "https://localhost:8080/"
        },
        "id": "XGUOFci2L7gQ",
        "outputId": "8dab5bff-1cf1-4c58-e75f-486a70ff1a46"
      },
      "execution_count": null,
      "outputs": [
        {
          "output_type": "stream",
          "name": "stdout",
          "text": [
            "Epoch 1/10\n",
            "148/148 [==============================] - 18s 106ms/step - loss: 0.3928 - accuracy: 0.8642 - val_loss: 0.1708 - val_accuracy: 0.9463\n",
            "Epoch 2/10\n",
            "148/148 [==============================] - 15s 101ms/step - loss: 0.1429 - accuracy: 0.9554 - val_loss: 0.1199 - val_accuracy: 0.9676\n",
            "Epoch 3/10\n",
            "148/148 [==============================] - 15s 100ms/step - loss: 0.1101 - accuracy: 0.9649 - val_loss: 0.1275 - val_accuracy: 0.9582\n",
            "Epoch 4/10\n",
            "148/148 [==============================] - 15s 100ms/step - loss: 0.0857 - accuracy: 0.9726 - val_loss: 0.1400 - val_accuracy: 0.9574\n"
          ]
        }
      ]
    },
    {
      "cell_type": "code",
      "source": [
        "model3.summary()"
      ],
      "metadata": {
        "colab": {
          "base_uri": "https://localhost:8080/"
        },
        "id": "IzaGLSIqkidp",
        "outputId": "5df72b47-a5a1-4c22-b04c-588c8dc99be1"
      },
      "execution_count": null,
      "outputs": [
        {
          "output_type": "stream",
          "name": "stdout",
          "text": [
            "Model: \"sequential_3\"\n",
            "_________________________________________________________________\n",
            " Layer (type)                Output Shape              Param #   \n",
            "=================================================================\n",
            " mobilenetv2_1.00_224 (Funct  (None, 1280)             2257984   \n",
            " ional)                                                          \n",
            "                                                                 \n",
            " dense_4 (Dense)             (None, 32)                40992     \n",
            "                                                                 \n",
            " dropout (Dropout)           (None, 32)                0         \n",
            "                                                                 \n",
            " flatten_2 (Flatten)         (None, 32)                0         \n",
            "                                                                 \n",
            " dense_5 (Dense)             (None, 4)                 132       \n",
            "                                                                 \n",
            "=================================================================\n",
            "Total params: 2,299,108\n",
            "Trainable params: 41,124\n",
            "Non-trainable params: 2,257,984\n",
            "_________________________________________________________________\n"
          ]
        }
      ]
    },
    {
      "cell_type": "code",
      "source": [
        "plot_loss_curves(history3)"
      ],
      "metadata": {
        "colab": {
          "base_uri": "https://localhost:8080/",
          "height": 572
        },
        "id": "qMsbEcQRMKMM",
        "outputId": "7fda5207-866a-4673-868c-c4b540c4c46c"
      },
      "execution_count": null,
      "outputs": [
        {
          "output_type": "display_data",
          "data": {
            "text/plain": [
              "<Figure size 432x288 with 1 Axes>"
            ],
            "image/png": "[encoded data removed]"
          },
          "metadata": {
            "needs_background": "light"
          }
        },
        {
          "output_type": "display_data",
          "data": {
            "text/plain": [
              "<Figure size 432x288 with 1 Axes>"
            ],
            "image/png": "[encoded data removed]"
          },
          "metadata": {
            "needs_background": "light"
          }
        }
      ]
    },
    {
      "cell_type": "code",
      "source": [
        "result = model3.evaluate(test_data)\n",
        "print(f'loss : {result[0]}')\n",
        "print(f'accuracy : {result[1]}')"
      ],
      "metadata": {
        "colab": {
          "base_uri": "https://localhost:8080/"
        },
        "id": "lKfjDmk5kD1s",
        "outputId": "96d0ce24-e508-4fd7-e7c1-6358651303b1"
      },
      "execution_count": null,
      "outputs": [
        {
          "output_type": "stream",
          "name": "stdout",
          "text": [
            "49/49 [==============================] - 5s 98ms/step - loss: 0.3368 - accuracy: 0.9251\n",
            "loss : 0.33677348494529724\n",
            "accuracy : 0.9250960350036621\n"
          ]
        }
      ]
    },
    {
      "cell_type": "code",
      "source": [
        "val_data = valid_data.next()\n",
        "res = model3.predict(val_data[0])\n",
        "print(classification_report(np.argmax(val_data[1], axis=1), np.argmax(res, axis=1), target_names=class_name))"
      ],
      "metadata": {
        "colab": {
          "base_uri": "https://localhost:8080/"
        },
        "id": "wiLLnNHCMLax",
        "outputId": "eb57f1b5-aee6-45a7-f859-9256e14eb0d0"
      },
      "execution_count": null,
      "outputs": [
        {
          "output_type": "stream",
          "name": "stdout",
          "text": [
            "              precision    recall  f1-score   support\n",
            "\n",
            "Early Blight       1.00      1.00      1.00         8\n",
            " Late Blight       0.90      1.00      0.95         9\n",
            "     Healthy       1.00      1.00      1.00        11\n",
            "     Unknown       1.00      0.75      0.86         4\n",
            "\n",
            "    accuracy                           0.97        32\n",
            "   macro avg       0.97      0.94      0.95        32\n",
            "weighted avg       0.97      0.97      0.97        32\n",
            "\n"
          ]
        }
      ]
    },
    {
      "cell_type": "code",
      "source": [
        "model3.save('/content/potato_models.h5')"
      ],
      "metadata": {
        "id": "a16MwMZH4VhD"
      },
      "execution_count": null,
      "outputs": []
    }
  ]
}